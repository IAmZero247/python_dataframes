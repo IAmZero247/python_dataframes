{
 "cells": [
  {
   "cell_type": "code",
   "execution_count": 4,
   "metadata": {},
   "outputs": [],
   "source": [
    "import datetime"
   ]
  },
  {
   "cell_type": "markdown",
   "metadata": {},
   "source": [
    "Python Basics "
   ]
  },
  {
   "cell_type": "code",
   "execution_count": 5,
   "metadata": {},
   "outputs": [
    {
     "data": {
      "text/plain": [
       "datetime.datetime(2021, 4, 13, 2, 4, 42, 990558)"
      ]
     },
     "execution_count": 5,
     "metadata": {},
     "output_type": "execute_result"
    }
   ],
   "source": [
    "## Data types \n",
    "#number (integer, float), text ,datetime , boolean , ,none \n",
    "\n",
    "#1 integer \n",
    "100\n",
    "\n",
    "#2 float \n",
    "3.14\n",
    "\n",
    "#3 string \n",
    "\"abc\"\n",
    "\"\"\n",
    "\n",
    "#boolean\n",
    "True\n",
    "False\n",
    "\n",
    "# None\n",
    "\n",
    "None\n",
    "\n",
    "#datetime\n",
    "x = datetime.datetime.now()\n",
    "x"
   ]
  },
  {
   "cell_type": "code",
   "execution_count": 11,
   "metadata": {},
   "outputs": [
    {
     "data": {
      "text/plain": [
       "2"
      ]
     },
     "execution_count": 11,
     "metadata": {},
     "output_type": "execute_result"
    }
   ],
   "source": [
    "## Operators \n",
    "\n",
    "# addition + ,\n",
    "3 + 5\n",
    "\"a\" + \"b\" \n",
    "# subtraction - ,\n",
    "10-2\n",
    "# multiplication * ,\n",
    "\"a\" * 5\n",
    "# divison / ,\n",
    "5/3\n",
    "# integer or floor divison //\n",
    "5//3\n",
    "#operator precedence -> paren exp mult div add sub\n",
    "(3 + 4) * 5\n",
    "# modulous %\n",
    "5%3\n",
    "\n",
    "# Relation Operator \n",
    "# Equality == \n",
    "# Inequality != \n",
    "# Greater then > \n",
    "# Greater then or equal to >= \n",
    "# Lesser then < \n",
    "# Lesser then or equal to <= \n",
    "\n",
    "\n"
   ]
  },
  {
   "cell_type": "code",
   "execution_count": 12,
   "metadata": {},
   "outputs": [],
   "source": [
    "# Variables\n",
    "\n",
    "age = 25 \n",
    "\n"
   ]
  },
  {
   "cell_type": "code",
   "execution_count": null,
   "metadata": {},
   "outputs": [],
   "source": []
  }
 ],
 "metadata": {
  "kernelspec": {
   "display_name": "Python 3",
   "language": "python",
   "name": "python3"
  },
  "language_info": {
   "codemirror_mode": {
    "name": "ipython",
    "version": 3
   },
   "file_extension": ".py",
   "mimetype": "text/x-python",
   "name": "python",
   "nbconvert_exporter": "python",
   "pygments_lexer": "ipython3",
   "version": "3.8.5"
  }
 },
 "nbformat": 4,
 "nbformat_minor": 4
}
