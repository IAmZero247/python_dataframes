{
 "cells": [
  {
   "cell_type": "markdown",
   "metadata": {},
   "source": [
    "Python Functions "
   ]
  },
  {
   "cell_type": "code",
   "execution_count": 8,
   "metadata": {},
   "outputs": [
    {
     "data": {
      "text/plain": [
       "3.14"
      ]
     },
     "execution_count": 8,
     "metadata": {},
     "output_type": "execute_result"
    }
   ],
   "source": [
    "#Functions \n",
    "var1 = \"something something\"\n",
    "    \n",
    "len(var1)   \n",
    "str(\"3.14\")\n",
    "type(var1)\n",
    "int(\"10\")\n",
    "float(\"3.14\")"
   ]
  },
  {
   "cell_type": "code",
   "execution_count": 13,
   "metadata": {},
   "outputs": [
    {
     "data": {
      "text/plain": [
       "32.0"
      ]
     },
     "execution_count": 13,
     "metadata": {},
     "output_type": "execute_result"
    }
   ],
   "source": [
    "# Custom Functions \n",
    "def convert_to_fahrenheit( celsius_temp = 0) :\n",
    "    product = celsius_temp * 1.8\n",
    "    return product +32\n",
    "\n",
    "\n",
    "convert_to_fahrenheit(celsius_temp = 100)\n",
    "convert_to_fahrenheit()"
   ]
  },
  {
   "cell_type": "code",
   "execution_count": 17,
   "metadata": {},
   "outputs": [
    {
     "data": {
      "text/plain": [
       "True"
      ]
     },
     "execution_count": 17,
     "metadata": {},
     "output_type": "execute_result"
    }
   ],
   "source": [
    "# String Functions \n",
    "\n",
    "profession = \"  software engg \"\n",
    "##capitalise \n",
    "profession.upper()\n",
    "profession.lower()\n",
    "profession.swapcase()\n",
    "profession.title()\n",
    "profession.capitalize()\n",
    "profession.lstrip()\n",
    "profession.rstrip()\n",
    "profession.strip()\n",
    "profession.replace(\"engg\" , \"engineer\")\n",
    "profession.strip().startswith(\"soft\")\n",
    "profession.strip().startswith(\"engg\")\n",
    "\"abc\" in \"xyzabcmnc\"\n",
    "\"ghf\" not in \"xyzabcmnc\"\n",
    "\n"
   ]
  },
  {
   "cell_type": "code",
   "execution_count": null,
   "metadata": {},
   "outputs": [],
   "source": []
  }
 ],
 "metadata": {
  "kernelspec": {
   "display_name": "Python 3",
   "language": "python",
   "name": "python3"
  },
  "language_info": {
   "codemirror_mode": {
    "name": "ipython",
    "version": 3
   },
   "file_extension": ".py",
   "mimetype": "text/x-python",
   "name": "python",
   "nbconvert_exporter": "python",
   "pygments_lexer": "ipython3",
   "version": "3.8.5"
  }
 },
 "nbformat": 4,
 "nbformat_minor": 4
}
